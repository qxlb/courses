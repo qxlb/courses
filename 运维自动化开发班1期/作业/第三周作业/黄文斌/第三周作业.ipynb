{
 "cells": [
  {
   "cell_type": "markdown",
   "metadata": {},
   "source": [
    "1. 实现ls命令，起码实现 `ls -al <path>`\n",
    "    - python 如何读取参数\n",
    "    - python 如何 获取 文件及文件夹\n",
    "    - python 如何获取 系统 参数\n",
    "    \n",
    "    `python ls.py -al /`"
   ]
  },
  {
   "cell_type": "markdown",
   "metadata": {},
   "source": [
    "2. 写一个cache装饰器，允许过期，过期时间自定义\n",
    "\n",
    "```\n",
    "@cache(5)\n",
    "def add(x, y)\n",
    "    return x + y\n",
    "\n",
    "1. 命中缓存\n",
    "2. 未命中\n",
    "3. key的封装\n",
    "\n",
    "add(1, 2)\n",
    "\n",
    "```"
   ]
  }
 ],
 "metadata": {
  "kernelspec": {
   "display_name": "Python 3",
   "language": "python",
   "name": "python3"
  },
  "language_info": {
   "codemirror_mode": {
    "name": "ipython",
    "version": 3
   },
   "file_extension": ".py",
   "mimetype": "text/x-python",
   "name": "python",
   "nbconvert_exporter": "python",
   "pygments_lexer": "ipython3",
   "version": "3.7.1"
  }
 },
 "nbformat": 4,
 "nbformat_minor": 2
}
